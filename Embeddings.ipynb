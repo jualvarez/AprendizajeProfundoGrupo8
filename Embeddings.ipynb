{
 "cells": [
  {
   "cell_type": "markdown",
   "id": "1fe5ae42",
   "metadata": {},
   "source": [
    "## Embeddings\n",
    "\n",
    "Entrenaremos embeddings con el dataset provisto. Tomamos esta decisión por dos razones principalmente:\n",
    "1. La cantidad de información dispnible es suficiente para entrenar un embedding correctamente\n",
    "2. El corpus es bastante específico del problema a resolver, y creemos que obtendrá mejores resultados que un embedding pre-entrenado"
   ]
  },
  {
   "cell_type": "code",
   "execution_count": 1,
   "id": "c5241a8c",
   "metadata": {},
   "outputs": [],
   "source": [
    "from utils import loader\n",
    "import gensim"
   ]
  },
  {
   "cell_type": "code",
   "execution_count": 1,
   "id": "afec5713",
   "metadata": {
    "scrolled": true
   },
   "outputs": [
    {
     "ename": "NameError",
     "evalue": "name 'loader' is not defined",
     "output_type": "error",
     "traceback": [
      "\u001b[0;31m---------------------------------------------------------------------------\u001b[0m",
      "\u001b[0;31mNameError\u001b[0m                                 Traceback (most recent call last)",
      "\u001b[0;32m/tmp/ipykernel_40890/4167243229.py\u001b[0m in \u001b[0;36m<module>\u001b[0;34m\u001b[0m\n\u001b[0;32m----> 1\u001b[0;31m \u001b[0mdf\u001b[0m \u001b[0;34m=\u001b[0m \u001b[0mloader\u001b[0m\u001b[0;34m.\u001b[0m\u001b[0mdata_loader\u001b[0m\u001b[0;34m(\u001b[0m\u001b[0;34m\"./meli-challenge-2019/spanish.train.jsonl\"\u001b[0m\u001b[0;34m,\u001b[0m \u001b[0mlimit\u001b[0m\u001b[0;34m=\u001b[0m\u001b[0;36m100000\u001b[0m\u001b[0;34m)\u001b[0m\u001b[0;34m\u001b[0m\u001b[0;34m\u001b[0m\u001b[0m\n\u001b[0m",
      "\u001b[0;31mNameError\u001b[0m: name 'loader' is not defined"
     ]
    }
   ],
   "source": [
    "df = loader.data_loader(\"./meli-challenge-2019/spanish.train.jsonl\", limit=100000)"
   ]
  },
  {
   "cell_type": "code",
   "execution_count": 10,
   "id": "3e2c0043",
   "metadata": {},
   "outputs": [],
   "source": [
    "embedding_train = df[\"tokenized_title\"]"
   ]
  },
  {
   "cell_type": "code",
   "execution_count": 20,
   "id": "7bce5145",
   "metadata": {},
   "outputs": [],
   "source": [
    "embeddings = gensim.models.FastText(vector_size=50, window=3, min_count=5, sentences=embedding_train, epochs=10, workers=8, sg=1)"
   ]
  },
  {
   "cell_type": "code",
   "execution_count": 21,
   "id": "306862f2",
   "metadata": {},
   "outputs": [
    {
     "data": {
      "text/plain": [
       "array([-0.4763739 , -1.0762461 , -0.9076026 , -1.3436519 , -0.27070385,\n",
       "       -0.38070124,  0.16228135, -0.9734436 , -0.26485658,  0.00489762,\n",
       "       -0.38970408, -0.33241117, -0.6741921 , -0.00676399,  0.88277274,\n",
       "        1.5615945 , -0.29391277, -0.44808438,  0.5835942 , -0.62908894,\n",
       "       -0.24824761, -0.85237396, -0.03946234,  0.4766513 , -0.5571473 ,\n",
       "        0.2810446 , -1.1838034 , -0.50252527, -1.6241096 , -0.10153852,\n",
       "       -0.19460924, -0.77646726, -0.4371411 , -0.5620895 ,  0.27009413,\n",
       "        0.46949866, -0.191766  , -0.01454098,  0.27544954, -1.3787125 ,\n",
       "       -0.9811825 , -0.9481116 ,  0.966374  , -1.1235836 , -0.22730544,\n",
       "       -0.7221615 , -0.07119247, -0.8566219 , -0.15459622,  0.10087489],\n",
       "      dtype=float32)"
      ]
     },
     "execution_count": 21,
     "metadata": {},
     "output_type": "execute_result"
    }
   ],
   "source": [
    "embeddings.wv[\"alfombra\"]"
   ]
  },
  {
   "cell_type": "code",
   "execution_count": 23,
   "id": "60ff3009",
   "metadata": {},
   "outputs": [
    {
     "data": {
      "text/plain": [
       "[('alfombra', 1.0),\n",
       " ('alfombras', 0.9290767312049866),\n",
       " ('alfombrilla', 0.8673182725906372),\n",
       " ('tapizmel', 0.8071568012237549),\n",
       " ('peludo', 0.8011388182640076),\n",
       " ('boucle', 0.7913062572479248),\n",
       " ('felpa', 0.7908392548561096),\n",
       " ('felpudo', 0.7904723286628723),\n",
       " ('antideslizante', 0.7851505279541016),\n",
       " ('patchwork', 0.7845775485038757)]"
      ]
     },
     "execution_count": 23,
     "metadata": {},
     "output_type": "execute_result"
    }
   ],
   "source": [
    "embeddings.wv.similar_by_vector(embeddings.wv[\"alfombra\"])"
   ]
  },
  {
   "cell_type": "code",
   "execution_count": 27,
   "id": "236b2836",
   "metadata": {},
   "outputs": [],
   "source": [
    "%load_ext autoreload\n",
    "%autoreload 2"
   ]
  },
  {
   "cell_type": "code",
   "execution_count": 39,
   "id": "9a472a84",
   "metadata": {},
   "outputs": [
    {
     "name": "stdout",
     "output_type": "stream",
     "text": [
      "Model loaded from file\n"
     ]
    },
    {
     "data": {
      "text/plain": [
       "<gensim.models.fasttext.FastText at 0x7f51d2a03cd0>"
      ]
     },
     "execution_count": 39,
     "metadata": {},
     "output_type": "execute_result"
    }
   ],
   "source": [
    "from utils import utils\n",
    "utils.get_embeddings(embedding_train)"
   ]
  },
  {
   "cell_type": "code",
   "execution_count": 41,
   "id": "d6c79398",
   "metadata": {},
   "outputs": [
    {
     "name": "stderr",
     "output_type": "stream",
     "text": [
      "4895280it [01:14, 65905.49it/s] \n"
     ]
    }
   ],
   "source": [
    "# Train with complete dataset and save\n",
    "df = loader.data_loader(\"./meli-challenge-2019/spanish.train.jsonl\")"
   ]
  },
  {
   "cell_type": "code",
   "execution_count": 42,
   "id": "4b9fb1d5",
   "metadata": {},
   "outputs": [],
   "source": [
    "embedding_train = df[\"tokenized_title\"]"
   ]
  },
  {
   "cell_type": "code",
   "execution_count": 43,
   "id": "af310ec7",
   "metadata": {},
   "outputs": [
    {
     "name": "stdout",
     "output_type": "stream",
     "text": [
      "Model will be built with params: {'vector_size': 50, 'window': 3, 'min_count': 5, 'epochs': 10, 'workers': 8, 'sg': 1}\n",
      "Model built and dumped to file\n"
     ]
    }
   ],
   "source": [
    "utils.get_embeddings(embedding_train, force_train=True)"
   ]
  }
 ],
 "metadata": {
  "kernelspec": {
   "display_name": "Python 3 (ipykernel)",
   "language": "python",
   "name": "python3"
  },
  "language_info": {
   "codemirror_mode": {
    "name": "ipython",
    "version": 3
   },
   "file_extension": ".py",
   "mimetype": "text/x-python",
   "name": "python",
   "nbconvert_exporter": "python",
   "pygments_lexer": "ipython3",
   "version": "3.8.10"
  }
 },
 "nbformat": 4,
 "nbformat_minor": 5
}
